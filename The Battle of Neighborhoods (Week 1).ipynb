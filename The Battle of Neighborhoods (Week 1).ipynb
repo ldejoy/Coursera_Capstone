{
    "cells": [
        {
            "cell_type": "markdown",
            "metadata": {
                "collapsed": true
            },
            "source": "# The Battle of Neighborhoods (Week 1)\n\n1. A description of the problem and a discussion of the background. \n2. A description of the data and how it will be used to solve the problem."
        },
        {
            "cell_type": "markdown",
            "metadata": {},
            "source": "### Part 1"
        },
        {
            "cell_type": "markdown",
            "metadata": {},
            "source": "Toronto is a diverse, large, and growing city.  Like many other big cities around the world, Toronto has a phenomenal food scene.  Since the food scene is also competitive, which neighborhood is a Mexican restaurant best suited for success?\n\nAs a restaurant consultant, I have a client looking to expand operations and open a Mexican restaurant in, or around, Downtown Toronto.  I will use data to analyze the city to find the most opportune area."
        },
        {
            "cell_type": "markdown",
            "metadata": {},
            "source": "### Part 2"
        },
        {
            "cell_type": "markdown",
            "metadata": {},
            "source": "I will utilize publicly available data from Wikipedia and Foursquare.  The data from Wikipedia will provide neighborhood details and postal codes, and Foursquare will provide geographical location data.  The data will be explored and will help analyze the Toronto neighborhoods and the restaurants throughout."
        }
    ],
    "metadata": {
        "kernelspec": {
            "display_name": "Python 3.6",
            "language": "python",
            "name": "python3"
        },
        "language_info": {
            "codemirror_mode": {
                "name": "ipython",
                "version": 3
            },
            "file_extension": ".py",
            "mimetype": "text/x-python",
            "name": "python",
            "nbconvert_exporter": "python",
            "pygments_lexer": "ipython3",
            "version": "3.6.9"
        }
    },
    "nbformat": 4,
    "nbformat_minor": 1
}